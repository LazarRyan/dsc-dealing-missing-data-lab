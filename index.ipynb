{
 "cells": [
  {
   "cell_type": "markdown",
   "metadata": {},
   "source": [
    "# Dealing with Missing Data - Lab\n",
    "\n",
    "## Introduction\n",
    "\n",
    "In this lab, we'll work through strategies for data cleaning and dealing with missing values (`NaN`s).\n",
    "\n",
    "## Objectives\n",
    "In this lab you will:\n",
    "\n",
    "- Identify missing values in a dataframe using built-in methods \n",
    "- Explain why missing values are a problem in data science \n",
    "\n",
    "## Dataset\n",
    "\n",
    "In this lab, we'll continue working with the _Titanic Survivors_ dataset, which can be found in `'titanic.csv'`.\n",
    "\n",
    "Before we can get going, we'll need to import the usual libraries.  In the cell below, import:\n",
    "* `pandas` as `pd`\n",
    "* `numpy` as `np`\n",
    "* `matplotlib.pyplot` as `plt`\n",
    "* set `%matplotlib inline`"
   ]
  },
  {
   "cell_type": "code",
   "execution_count": 2,
   "metadata": {},
   "outputs": [],
   "source": [
    "# Import necessary libraries below\n",
    "import pandas as pd\n",
    "import numpy as np\n",
    "import matplotlib.pyplot as plt\n",
    "%matplotlib inline"
   ]
  },
  {
   "cell_type": "markdown",
   "metadata": {},
   "source": [
    "Now, let's get started by reading in the data from the `'titanic.csv'` file and storing it the DataFrame `df`. Subsequently, be sure to preview the data."
   ]
  },
  {
   "cell_type": "code",
   "execution_count": 6,
   "metadata": {},
   "outputs": [
    {
     "data": {
      "text/html": [
       "<div>\n",
       "<style scoped>\n",
       "    .dataframe tbody tr th:only-of-type {\n",
       "        vertical-align: middle;\n",
       "    }\n",
       "\n",
       "    .dataframe tbody tr th {\n",
       "        vertical-align: top;\n",
       "    }\n",
       "\n",
       "    .dataframe thead th {\n",
       "        text-align: right;\n",
       "    }\n",
       "</style>\n",
       "<table border=\"1\" class=\"dataframe\">\n",
       "  <thead>\n",
       "    <tr style=\"text-align: right;\">\n",
       "      <th></th>\n",
       "      <th>Unnamed: 0</th>\n",
       "      <th>PassengerId</th>\n",
       "      <th>Survived</th>\n",
       "      <th>Pclass</th>\n",
       "      <th>Name</th>\n",
       "      <th>Sex</th>\n",
       "      <th>Age</th>\n",
       "      <th>SibSp</th>\n",
       "      <th>Parch</th>\n",
       "      <th>Ticket</th>\n",
       "      <th>Fare</th>\n",
       "      <th>Cabin</th>\n",
       "      <th>Embarked</th>\n",
       "    </tr>\n",
       "  </thead>\n",
       "  <tbody>\n",
       "    <tr>\n",
       "      <th>0</th>\n",
       "      <td>0</td>\n",
       "      <td>1</td>\n",
       "      <td>0</td>\n",
       "      <td>3</td>\n",
       "      <td>Braund, Mr. Owen Harris</td>\n",
       "      <td>male</td>\n",
       "      <td>22.0</td>\n",
       "      <td>1</td>\n",
       "      <td>0</td>\n",
       "      <td>A/5 21171</td>\n",
       "      <td>7.2500</td>\n",
       "      <td>NaN</td>\n",
       "      <td>S</td>\n",
       "    </tr>\n",
       "    <tr>\n",
       "      <th>1</th>\n",
       "      <td>1</td>\n",
       "      <td>2</td>\n",
       "      <td>1</td>\n",
       "      <td>1</td>\n",
       "      <td>Cumings, Mrs. John Bradley (Florence Briggs Th...</td>\n",
       "      <td>female</td>\n",
       "      <td>38.0</td>\n",
       "      <td>1</td>\n",
       "      <td>0</td>\n",
       "      <td>PC 17599</td>\n",
       "      <td>71.2833</td>\n",
       "      <td>C85</td>\n",
       "      <td>C</td>\n",
       "    </tr>\n",
       "    <tr>\n",
       "      <th>2</th>\n",
       "      <td>2</td>\n",
       "      <td>3</td>\n",
       "      <td>1</td>\n",
       "      <td>3</td>\n",
       "      <td>Heikkinen, Miss. Laina</td>\n",
       "      <td>female</td>\n",
       "      <td>26.0</td>\n",
       "      <td>0</td>\n",
       "      <td>0</td>\n",
       "      <td>STON/O2. 3101282</td>\n",
       "      <td>7.9250</td>\n",
       "      <td>NaN</td>\n",
       "      <td>S</td>\n",
       "    </tr>\n",
       "    <tr>\n",
       "      <th>3</th>\n",
       "      <td>3</td>\n",
       "      <td>4</td>\n",
       "      <td>1</td>\n",
       "      <td>1</td>\n",
       "      <td>Futrelle, Mrs. Jacques Heath (Lily May Peel)</td>\n",
       "      <td>female</td>\n",
       "      <td>35.0</td>\n",
       "      <td>1</td>\n",
       "      <td>0</td>\n",
       "      <td>113803</td>\n",
       "      <td>53.1000</td>\n",
       "      <td>C123</td>\n",
       "      <td>S</td>\n",
       "    </tr>\n",
       "    <tr>\n",
       "      <th>4</th>\n",
       "      <td>4</td>\n",
       "      <td>5</td>\n",
       "      <td>0</td>\n",
       "      <td>3</td>\n",
       "      <td>Allen, Mr. William Henry</td>\n",
       "      <td>male</td>\n",
       "      <td>35.0</td>\n",
       "      <td>0</td>\n",
       "      <td>0</td>\n",
       "      <td>373450</td>\n",
       "      <td>8.0500</td>\n",
       "      <td>NaN</td>\n",
       "      <td>S</td>\n",
       "    </tr>\n",
       "  </tbody>\n",
       "</table>\n",
       "</div>"
      ],
      "text/plain": [
       "   Unnamed: 0  PassengerId  Survived Pclass  \\\n",
       "0           0            1         0      3   \n",
       "1           1            2         1      1   \n",
       "2           2            3         1      3   \n",
       "3           3            4         1      1   \n",
       "4           4            5         0      3   \n",
       "\n",
       "                                                Name     Sex   Age  SibSp  \\\n",
       "0                            Braund, Mr. Owen Harris    male  22.0      1   \n",
       "1  Cumings, Mrs. John Bradley (Florence Briggs Th...  female  38.0      1   \n",
       "2                             Heikkinen, Miss. Laina  female  26.0      0   \n",
       "3       Futrelle, Mrs. Jacques Heath (Lily May Peel)  female  35.0      1   \n",
       "4                           Allen, Mr. William Henry    male  35.0      0   \n",
       "\n",
       "   Parch            Ticket     Fare Cabin Embarked  \n",
       "0      0         A/5 21171   7.2500   NaN        S  \n",
       "1      0          PC 17599  71.2833   C85        C  \n",
       "2      0  STON/O2. 3101282   7.9250   NaN        S  \n",
       "3      0            113803  53.1000  C123        S  \n",
       "4      0            373450   8.0500   NaN        S  "
      ]
     },
     "execution_count": 6,
     "metadata": {},
     "output_type": "execute_result"
    }
   ],
   "source": [
    "# Use pandas to load the csv file\n",
    "df = pd.read_csv('titanic.csv')\n",
    "df.head()"
   ]
  },
  {
   "cell_type": "markdown",
   "metadata": {},
   "source": [
    "## Find missing values in a DataFrame\n",
    "\n",
    "Before we can deal with missing values, we first need to find them. There are several easy ways to detect them.  We will start by answering very general questions, such as \"does this DataFrame contain any null values?\", and then narrowing our focus each time the answer to a question is \"yes\".\n",
    "\n",
    "We'll start by checking to see if the DataFrame contains **any** missing values (NaNs) at all. \n",
    "\n",
    "**_Hint_**: If you do this correctly, it will require method chaining, and will return a boolean value for each column.  "
   ]
  },
  {
   "cell_type": "code",
   "execution_count": 7,
   "metadata": {},
   "outputs": [
    {
     "name": "stdout",
     "output_type": "stream",
     "text": [
      "The number of missing values in each column:\n",
      "Unnamed: 0       0\n",
      "PassengerId      0\n",
      "Survived         0\n",
      "Pclass           0\n",
      "Name             0\n",
      "Sex              0\n",
      "Age            177\n",
      "SibSp            0\n",
      "Parch            0\n",
      "Ticket           0\n",
      "Fare             0\n",
      "Cabin          687\n",
      "Embarked         2\n",
      "dtype: int64\n"
     ]
    }
   ],
   "source": [
    "# Your code here\n",
    "# use a lambda function to check for missing values in the dataframe\n",
    "missing_values = df.apply(lambda x: x.isnull().sum())\n",
    "\n",
    "# print the number of missing values in each column\n",
    "print(f\"The number of missing values in each column:\\n{missing_values}\")"
   ]
  },
  {
   "cell_type": "markdown",
   "metadata": {},
   "source": [
    "Now we know which columns contain missing values, but not how many. \n",
    "\n",
    "In the cell below, chain a different method with `isna()` to check how many total missing values are in each column.  \n",
    "\n",
    "Expected Output:\n",
    "\n",
    "```\n",
    "PassengerId      0\n",
    "Survived         0\n",
    "Pclass           0\n",
    "Name             0\n",
    "Sex              0\n",
    "Age            177\n",
    "SibSp            0\n",
    "Parch            0\n",
    "Ticket           0\n",
    "Fare             0\n",
    "Cabin          687\n",
    "Embarked         2\n",
    "dtype: int64\n",
    "```"
   ]
  },
  {
   "cell_type": "markdown",
   "metadata": {},
   "source": [
    "Now that we know how many missing values exist in each column, we can make some decisions about how to deal with them.  \n",
    "\n",
    "We'll deal with each column individually, and employ a different strategy for each.  \n",
    "\n",
    "\n",
    "### Dropping the column\n",
    "\n",
    "The first column we'll deal with is the `Cabin` column.  We'll begin by examining this column more closely. \n",
    "\n",
    "\n",
    "In the cell below:\n",
    "* Determine what percentage of rows in this column contain missing values\n",
    "* Print out the number of unique values in this column"
   ]
  },
  {
   "cell_type": "code",
   "execution_count": 8,
   "metadata": {},
   "outputs": [
    {
     "name": "stdout",
     "output_type": "stream",
     "text": [
      "The number of unique values in the 'Cabin' column is 147.\n"
     ]
    }
   ],
   "source": [
    "# Your code here\n",
    "# print out the number of unique values in the 'Cabin' column\n",
    "print(f\"The number of unique values in the 'Cabin' column is {df['Cabin'].nunique()}.\")"
   ]
  },
  {
   "cell_type": "markdown",
   "metadata": {},
   "source": [
    "With this many missing values, it's probably best for us to just drop this column completely.\n",
    "\n",
    "In the cell below:\n",
    "\n",
    "* Drop the `Cabin` column in place from the `df` DataFrame\n",
    "* Then, check the remaining number of null values in the dataset by using the code you wrote previously   "
   ]
  },
  {
   "cell_type": "code",
   "execution_count": 9,
   "metadata": {},
   "outputs": [],
   "source": [
    "# Your code here\n",
    "df.drop('Cabin', axis=1, inplace=True)"
   ]
  },
  {
   "cell_type": "code",
   "execution_count": 10,
   "metadata": {},
   "outputs": [
    {
     "name": "stdout",
     "output_type": "stream",
     "text": [
      "The number of null values in the dataset is 179.\n"
     ]
    }
   ],
   "source": [
    "null_count = df.isnull().sum().sum()\n",
    "print(f\"The number of null values in the dataset is {null_count}.\")"
   ]
  },
  {
   "cell_type": "markdown",
   "metadata": {},
   "source": [
    "### Computing placeholder values\n",
    "\n",
    "Recall that another common strategy for dealing with missing values is to replace them with the mean or median for that column. We'll begin by investigating the current version of the `'Age'` column.  \n",
    "\n",
    "In the cell below:\n",
    "\n",
    "* Plot a histogram of values in the `'Age'` column with 80 bins (1 for each year)    \n",
    "* Print out the mean and median for the column   "
   ]
  },
  {
   "cell_type": "code",
   "execution_count": 12,
   "metadata": {},
   "outputs": [
    {
     "data": {
      "image/png": "[encoded data removed]",
      "text/plain": [
       "<Figure size 432x288 with 1 Axes>"
      ]
     },
     "metadata": {
      "needs_background": "light"
     },
     "output_type": "display_data"
    }
   ],
   "source": [
    "# Your code here\n",
    "# plot a histogram of values in the 'Age' column with 80 bins\n",
    "plt.hist(df['Age'], bins=80)\n",
    "\n",
    "# set the x-axis label\n",
    "plt.xlabel('Age')\n",
    "\n",
    "# set the y-axis label\n",
    "plt.ylabel('Frequency')\n",
    "\n",
    "# show the plot\n",
    "plt.show()"
   ]
  },
  {
   "cell_type": "markdown",
   "metadata": {},
   "source": [
    "From the visualization above, we can see the data has a slightly positive skew. \n",
    "\n",
    "In the cell below, replace all missing values in the `'Age'` column with the median of the column.  **Do not hard code this value -- use the methods from pandas or numpy to make this easier!**  Do this replacement in place on the DataFrame. "
   ]
  },
  {
   "cell_type": "code",
   "execution_count": 13,
   "metadata": {},
   "outputs": [],
   "source": [
    "# Your code here\n",
    "# replace all missing values in the 'Age' column with the median of the column\n",
    "df['Age'].fillna(df['Age'].median(), inplace=True)"
   ]
  },
  {
   "cell_type": "markdown",
   "metadata": {},
   "source": [
    "Now that we've replaced the values in the `'Age'` column, let's confirm that they've been replaced.  \n",
    "\n",
    "In the cell below, check how many null values remain in the dataset.  "
   ]
  },
  {
   "cell_type": "code",
   "execution_count": 16,
   "metadata": {},
   "outputs": [
    {
     "name": "stdout",
     "output_type": "stream",
     "text": [
      "The number of null values in the 'Age' column is 0.\n"
     ]
    }
   ],
   "source": [
    "# Your code here\n",
    "# check for null values in the 'Age' column\n",
    "null_count = df['Age'].isnull().sum()\n",
    "\n",
    "# print the number of null values\n",
    "print(f\"The number of null values in the 'Age' column is {null_count}.\")"
   ]
  },
  {
   "cell_type": "markdown",
   "metadata": {},
   "source": [
    "Great! Now we need to deal with the two pesky missing values in the `'Embarked'` column.  \n",
    "\n",
    "### Dropping rows that contain missing values\n",
    "\n",
    "Perhaps the most common solution to dealing with missing values is to simply drop any rows that contain them.  Of course, this is only a good idea if the number dropped does not constitute a significant portion of our dataset.  Often, you'll need to make the overall determination to see if dropping the values is an acceptable loss, or if it is a better idea to just drop an offending column (e.g. the `'Cabin'` column) or to impute placeholder values instead.\n",
    "\n",
    "In the cell below, use the appropriate built-in DataFrame method to drop the rows containing missing values. Do this in place on the DataFrame.  "
   ]
  },
  {
   "cell_type": "code",
   "execution_count": 17,
   "metadata": {},
   "outputs": [],
   "source": [
    "# Your code here\n",
    "df.dropna(inplace=True)"
   ]
  },
  {
   "cell_type": "markdown",
   "metadata": {},
   "source": [
    "Great! We've dealt with all the **_obvious_** missing values, but we should also take some time to make sure that there aren't symbols or numbers included that are meant to denote a missing value. \n",
    "\n",
    "### Missing values with placeholders\n",
    "\n",
    "A common thing to see when working with datasets is missing values denoted with a preassigned code or symbol.  Let's check to ensure that each categorical column contains only what we expect.\n",
    "\n",
    "In the cell below, return the unique values in the `'Embarked'`, `'Sex'`, `'Pclass'`, and `'Survived'` columns to ensure that there are no values in there that we don't understand or can't account for.  "
   ]
  },
  {
   "cell_type": "code",
   "execution_count": 19,
   "metadata": {},
   "outputs": [
    {
     "name": "stdout",
     "output_type": "stream",
     "text": [
      "Unique values in Embarked: ['S' 'C' 'Q']\n",
      "Unique values in Sex: ['male' 'female']\n",
      "Unique values in Pclass: ['3' '1' '2' '?']\n",
      "Unique values in Survived: [0 1]\n"
     ]
    }
   ],
   "source": [
    "# Your code here\n",
    "# Select the columns of interest\n",
    "cols = ['Embarked', 'Sex', 'Pclass', 'Survived']\n",
    "df = df[cols]\n",
    "\n",
    "# Get the unique values for each column\n",
    "for col in cols:\n",
    "    print(f\"Unique values in {col}: {df[col].unique()}\")"
   ]
  },
  {
   "cell_type": "markdown",
   "metadata": {},
   "source": [
    "It looks like the `'Pclass'` column contains some missing values denoted by a placeholder! \n",
    "\n",
    "In the cell below, investigate how many placeholder values this column contains.  Then, deal with these missing values using whichever strategy you believe is most appropriate in this case.  "
   ]
  },
  {
   "cell_type": "code",
   "execution_count": 20,
   "metadata": {},
   "outputs": [
    {
     "name": "stdout",
     "output_type": "stream",
     "text": [
      "There are 48 missing values in the 'Pclass' column that are denoted by '?'.\n"
     ]
    }
   ],
   "source": [
    "# Your code here\n",
    "# Count the number of missing values in the 'Pclass' column that are denoted by \"?\"\n",
    "count = (df['Pclass'] == '?').sum()\n",
    "\n",
    "print(f\"There are {count} missing values in the 'Pclass' column that are denoted by '?'.\")"
   ]
  },
  {
   "cell_type": "code",
   "execution_count": 22,
   "metadata": {},
   "outputs": [],
   "source": [
    "# Your code here\n",
    "# Replace '?' with '55' in the 'Pclass' column\n",
    "df['Pclass'].replace('?', '55', inplace=True)"
   ]
  },
  {
   "cell_type": "markdown",
   "metadata": {},
   "source": [
    "**_Question:_** What is the benefit of treating missing values as a separate valid category?  What is the benefit of removing or replacing them? What are the drawbacks of each? Finally, which strategy did you choose? Explain your choice below. \n",
    "\n",
    "Write your answer below this line:\n",
    "______________________________________________________________________________________________________"
   ]
  },
  {
   "cell_type": "code",
   "execution_count": null,
   "metadata": {},
   "outputs": [],
   "source": [
    "# Treatin them as a separate valid category allows you to identify and manipulate them without manipulating the entire DataFrame\n",
    "# Removing or replacing creates consistency in the DataFrame making analysis easier"
   ]
  },
  {
   "cell_type": "markdown",
   "metadata": {},
   "source": [
    "Now, let's do a final check to ensure that there are no more missing values remaining in this dataset.  \n",
    "\n",
    "In the cell below, reuse the code you wrote at the beginning of the notebook to check how many null values our dataset now contains.  "
   ]
  },
  {
   "cell_type": "code",
   "execution_count": 23,
   "metadata": {},
   "outputs": [
    {
     "name": "stdout",
     "output_type": "stream",
     "text": [
      "The number of missing values in each column:\n",
      "Embarked    0\n",
      "Sex         0\n",
      "Pclass      0\n",
      "Survived    0\n",
      "dtype: int64\n"
     ]
    }
   ],
   "source": [
    "# Your code here\n",
    "# use a lambda function to check for missing values in the dataframe\n",
    "missing_values = df.apply(lambda x: x.isnull().sum())\n",
    "\n",
    "# print the number of missing values in each column\n",
    "print(f\"The number of missing values in each column:\\n{missing_values}\")"
   ]
  },
  {
   "cell_type": "markdown",
   "metadata": {},
   "source": [
    "Great! Those all seem in line with our expectations.  We can confidently say that this dataset contains no pesky missing values that will mess up our analysis later on!"
   ]
  },
  {
   "cell_type": "markdown",
   "metadata": {},
   "source": [
    "## Summary\n",
    "\n",
    "In this lab, we learned:\n",
    "* How to detect missing values in our dataset\n",
    "* How to deal with missing values by dropping rows\n",
    "* How to deal with missing values by imputing mean/median values \n",
    "* Strategies for detecting missing values encoded with a placeholder"
   ]
  }
 ],
 "metadata": {
  "kernelspec": {
   "display_name": "Python 3",
   "language": "python",
   "name": "python3"
  },
  "language_info": {
   "codemirror_mode": {
    "name": "ipython",
    "version": 3
   },
   "file_extension": ".py",
   "mimetype": "text/x-python",
   "name": "python",
   "nbconvert_exporter": "python",
   "pygments_lexer": "ipython3",
   "version": "3.8.5"
  }
 },
 "nbformat": 4,
 "nbformat_minor": 2
}
